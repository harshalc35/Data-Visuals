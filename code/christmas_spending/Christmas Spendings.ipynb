{
 "cells": [
  {
   "cell_type": "code",
   "execution_count": 5,
   "metadata": {},
   "outputs": [
    {
     "data": {
      "text/html": [
       "<script type=\"text/javascript\">window.PlotlyConfig = {MathJaxConfig: 'local'};</script><script type=\"text/javascript\">if (window.MathJax) {MathJax.Hub.Config({SVG: {font: \"STIX-Web\"}});}</script><script>requirejs.config({paths: { 'plotly': ['https://cdn.plot.ly/plotly-latest.min']},});if(!window._Plotly) {require(['plotly'],function(plotly) {window._Plotly=plotly;});}</script>"
      ],
      "text/vnd.plotly.v1+html": [
       "<script type=\"text/javascript\">window.PlotlyConfig = {MathJaxConfig: 'local'};</script><script type=\"text/javascript\">if (window.MathJax) {MathJax.Hub.Config({SVG: {font: \"STIX-Web\"}});}</script><script>requirejs.config({paths: { 'plotly': ['https://cdn.plot.ly/plotly-latest.min']},});if(!window._Plotly) {require(['plotly'],function(plotly) {window._Plotly=plotly;});}</script>"
      ]
     },
     "metadata": {},
     "output_type": "display_data"
    }
   ],
   "source": [
    "import pandas as pd\n",
    "from plotly.offline import download_plotlyjs,plot,iplot,init_notebook_mode\n",
    "init_notebook_mode(connected=True)\n",
    "from plotly import tools\n",
    "\n",
    "import plotly.graph_objs as go"
   ]
  },
  {
   "cell_type": "code",
   "execution_count": 47,
   "metadata": {},
   "outputs": [],
   "source": [
    "data = pd.read_csv('/home/harshal/Works/Jupyter Stuff/christmas.csv')"
   ]
  },
  {
   "cell_type": "code",
   "execution_count": 48,
   "metadata": {},
   "outputs": [
    {
     "data": {
      "text/html": [
       "<div>\n",
       "<style scoped>\n",
       "    .dataframe tbody tr th:only-of-type {\n",
       "        vertical-align: middle;\n",
       "    }\n",
       "\n",
       "    .dataframe tbody tr th {\n",
       "        vertical-align: top;\n",
       "    }\n",
       "\n",
       "    .dataframe thead th {\n",
       "        text-align: right;\n",
       "    }\n",
       "</style>\n",
       "<table border=\"1\" class=\"dataframe\">\n",
       "  <thead>\n",
       "    <tr style=\"text-align: right;\">\n",
       "      <th></th>\n",
       "      <th>Year</th>\n",
       "      <th>Average amount spent in U.S. dollars</th>\n",
       "    </tr>\n",
       "  </thead>\n",
       "  <tbody>\n",
       "    <tr>\n",
       "      <th>0</th>\n",
       "      <td>'99</td>\n",
       "      <td>857</td>\n",
       "    </tr>\n",
       "    <tr>\n",
       "      <th>1</th>\n",
       "      <td>'00</td>\n",
       "      <td>817</td>\n",
       "    </tr>\n",
       "    <tr>\n",
       "      <th>2</th>\n",
       "      <td>'01</td>\n",
       "      <td>794</td>\n",
       "    </tr>\n",
       "    <tr>\n",
       "      <th>3</th>\n",
       "      <td>'02</td>\n",
       "      <td>690</td>\n",
       "    </tr>\n",
       "    <tr>\n",
       "      <th>4</th>\n",
       "      <td>'03</td>\n",
       "      <td>734</td>\n",
       "    </tr>\n",
       "    <tr>\n",
       "      <th>5</th>\n",
       "      <td>'04</td>\n",
       "      <td>730</td>\n",
       "    </tr>\n",
       "    <tr>\n",
       "      <th>6</th>\n",
       "      <td>'05</td>\n",
       "      <td>763</td>\n",
       "    </tr>\n",
       "    <tr>\n",
       "      <th>7</th>\n",
       "      <td>'06</td>\n",
       "      <td>826</td>\n",
       "    </tr>\n",
       "    <tr>\n",
       "      <th>8</th>\n",
       "      <td>'07</td>\n",
       "      <td>866</td>\n",
       "    </tr>\n",
       "    <tr>\n",
       "      <th>9</th>\n",
       "      <td>'08</td>\n",
       "      <td>616</td>\n",
       "    </tr>\n",
       "    <tr>\n",
       "      <th>10</th>\n",
       "      <td>'09</td>\n",
       "      <td>638</td>\n",
       "    </tr>\n",
       "    <tr>\n",
       "      <th>11</th>\n",
       "      <td>'10</td>\n",
       "      <td>714</td>\n",
       "    </tr>\n",
       "    <tr>\n",
       "      <th>12</th>\n",
       "      <td>'11</td>\n",
       "      <td>764</td>\n",
       "    </tr>\n",
       "    <tr>\n",
       "      <th>13</th>\n",
       "      <td>'12</td>\n",
       "      <td>770</td>\n",
       "    </tr>\n",
       "    <tr>\n",
       "      <th>14</th>\n",
       "      <td>'13</td>\n",
       "      <td>704</td>\n",
       "    </tr>\n",
       "    <tr>\n",
       "      <th>15</th>\n",
       "      <td>'14</td>\n",
       "      <td>720</td>\n",
       "    </tr>\n",
       "    <tr>\n",
       "      <th>16</th>\n",
       "      <td>'15</td>\n",
       "      <td>830</td>\n",
       "    </tr>\n",
       "    <tr>\n",
       "      <th>17</th>\n",
       "      <td>'16</td>\n",
       "      <td>752</td>\n",
       "    </tr>\n",
       "    <tr>\n",
       "      <th>18</th>\n",
       "      <td>'17</td>\n",
       "      <td>862</td>\n",
       "    </tr>\n",
       "    <tr>\n",
       "      <th>19</th>\n",
       "      <td>'18</td>\n",
       "      <td>794</td>\n",
       "    </tr>\n",
       "  </tbody>\n",
       "</table>\n",
       "</div>"
      ],
      "text/plain": [
       "   Year  Average amount spent in U.S. dollars\n",
       "0   '99                                   857\n",
       "1   '00                                   817\n",
       "2   '01                                   794\n",
       "3   '02                                   690\n",
       "4   '03                                   734\n",
       "5   '04                                   730\n",
       "6   '05                                   763\n",
       "7   '06                                   826\n",
       "8   '07                                   866\n",
       "9   '08                                   616\n",
       "10  '09                                   638\n",
       "11  '10                                   714\n",
       "12  '11                                   764\n",
       "13  '12                                   770\n",
       "14  '13                                   704\n",
       "15  '14                                   720\n",
       "16  '15                                   830\n",
       "17  '16                                   752\n",
       "18  '17                                   862\n",
       "19  '18                                   794"
      ]
     },
     "execution_count": 48,
     "metadata": {},
     "output_type": "execute_result"
    }
   ],
   "source": [
    "data"
   ]
  },
  {
   "cell_type": "code",
   "execution_count": 49,
   "metadata": {},
   "outputs": [],
   "source": [
    "data['Year'] = data['Year'].str.lstrip('\\'')\n",
    "data['Year'] = pd.to_datetime(data['Year'], format='%y')"
   ]
  },
  {
   "cell_type": "code",
   "execution_count": 50,
   "metadata": {},
   "outputs": [
    {
     "data": {
      "text/html": [
       "<div>\n",
       "<style scoped>\n",
       "    .dataframe tbody tr th:only-of-type {\n",
       "        vertical-align: middle;\n",
       "    }\n",
       "\n",
       "    .dataframe tbody tr th {\n",
       "        vertical-align: top;\n",
       "    }\n",
       "\n",
       "    .dataframe thead th {\n",
       "        text-align: right;\n",
       "    }\n",
       "</style>\n",
       "<table border=\"1\" class=\"dataframe\">\n",
       "  <thead>\n",
       "    <tr style=\"text-align: right;\">\n",
       "      <th></th>\n",
       "      <th>Year</th>\n",
       "      <th>Average amount spent in U.S. dollars</th>\n",
       "    </tr>\n",
       "  </thead>\n",
       "  <tbody>\n",
       "    <tr>\n",
       "      <th>0</th>\n",
       "      <td>1999-01-01</td>\n",
       "      <td>857</td>\n",
       "    </tr>\n",
       "    <tr>\n",
       "      <th>1</th>\n",
       "      <td>2000-01-01</td>\n",
       "      <td>817</td>\n",
       "    </tr>\n",
       "    <tr>\n",
       "      <th>2</th>\n",
       "      <td>2001-01-01</td>\n",
       "      <td>794</td>\n",
       "    </tr>\n",
       "    <tr>\n",
       "      <th>3</th>\n",
       "      <td>2002-01-01</td>\n",
       "      <td>690</td>\n",
       "    </tr>\n",
       "    <tr>\n",
       "      <th>4</th>\n",
       "      <td>2003-01-01</td>\n",
       "      <td>734</td>\n",
       "    </tr>\n",
       "    <tr>\n",
       "      <th>5</th>\n",
       "      <td>2004-01-01</td>\n",
       "      <td>730</td>\n",
       "    </tr>\n",
       "    <tr>\n",
       "      <th>6</th>\n",
       "      <td>2005-01-01</td>\n",
       "      <td>763</td>\n",
       "    </tr>\n",
       "    <tr>\n",
       "      <th>7</th>\n",
       "      <td>2006-01-01</td>\n",
       "      <td>826</td>\n",
       "    </tr>\n",
       "    <tr>\n",
       "      <th>8</th>\n",
       "      <td>2007-01-01</td>\n",
       "      <td>866</td>\n",
       "    </tr>\n",
       "    <tr>\n",
       "      <th>9</th>\n",
       "      <td>2008-01-01</td>\n",
       "      <td>616</td>\n",
       "    </tr>\n",
       "    <tr>\n",
       "      <th>10</th>\n",
       "      <td>2009-01-01</td>\n",
       "      <td>638</td>\n",
       "    </tr>\n",
       "    <tr>\n",
       "      <th>11</th>\n",
       "      <td>2010-01-01</td>\n",
       "      <td>714</td>\n",
       "    </tr>\n",
       "    <tr>\n",
       "      <th>12</th>\n",
       "      <td>2011-01-01</td>\n",
       "      <td>764</td>\n",
       "    </tr>\n",
       "    <tr>\n",
       "      <th>13</th>\n",
       "      <td>2012-01-01</td>\n",
       "      <td>770</td>\n",
       "    </tr>\n",
       "    <tr>\n",
       "      <th>14</th>\n",
       "      <td>2013-01-01</td>\n",
       "      <td>704</td>\n",
       "    </tr>\n",
       "    <tr>\n",
       "      <th>15</th>\n",
       "      <td>2014-01-01</td>\n",
       "      <td>720</td>\n",
       "    </tr>\n",
       "    <tr>\n",
       "      <th>16</th>\n",
       "      <td>2015-01-01</td>\n",
       "      <td>830</td>\n",
       "    </tr>\n",
       "    <tr>\n",
       "      <th>17</th>\n",
       "      <td>2016-01-01</td>\n",
       "      <td>752</td>\n",
       "    </tr>\n",
       "    <tr>\n",
       "      <th>18</th>\n",
       "      <td>2017-01-01</td>\n",
       "      <td>862</td>\n",
       "    </tr>\n",
       "    <tr>\n",
       "      <th>19</th>\n",
       "      <td>2018-01-01</td>\n",
       "      <td>794</td>\n",
       "    </tr>\n",
       "  </tbody>\n",
       "</table>\n",
       "</div>"
      ],
      "text/plain": [
       "         Year  Average amount spent in U.S. dollars\n",
       "0  1999-01-01                                   857\n",
       "1  2000-01-01                                   817\n",
       "2  2001-01-01                                   794\n",
       "3  2002-01-01                                   690\n",
       "4  2003-01-01                                   734\n",
       "5  2004-01-01                                   730\n",
       "6  2005-01-01                                   763\n",
       "7  2006-01-01                                   826\n",
       "8  2007-01-01                                   866\n",
       "9  2008-01-01                                   616\n",
       "10 2009-01-01                                   638\n",
       "11 2010-01-01                                   714\n",
       "12 2011-01-01                                   764\n",
       "13 2012-01-01                                   770\n",
       "14 2013-01-01                                   704\n",
       "15 2014-01-01                                   720\n",
       "16 2015-01-01                                   830\n",
       "17 2016-01-01                                   752\n",
       "18 2017-01-01                                   862\n",
       "19 2018-01-01                                   794"
      ]
     },
     "execution_count": 50,
     "metadata": {},
     "output_type": "execute_result"
    }
   ],
   "source": [
    "data"
   ]
  },
  {
   "cell_type": "code",
   "execution_count": 56,
   "metadata": {},
   "outputs": [
    {
     "data": {
      "text/plain": [
       "0     1999\n",
       "1     2000\n",
       "2     2001\n",
       "3     2002\n",
       "4     2003\n",
       "5     2004\n",
       "6     2005\n",
       "7     2006\n",
       "8     2007\n",
       "9     2008\n",
       "10    2009\n",
       "11    2010\n",
       "12    2011\n",
       "13    2012\n",
       "14    2013\n",
       "15    2014\n",
       "16    2015\n",
       "17    2016\n",
       "18    2017\n",
       "19    2018\n",
       "Name: Year, dtype: int64"
      ]
     },
     "execution_count": 56,
     "metadata": {},
     "output_type": "execute_result"
    }
   ],
   "source": [
    "data['Year'].dt.year"
   ]
  },
  {
   "cell_type": "code",
   "execution_count": 217,
   "metadata": {},
   "outputs": [
    {
     "data": {
      "application/vnd.plotly.v1+json": {
       "config": {
        "linkText": "Export to plot.ly",
        "plotlyServerURL": "https://plot.ly",
        "showLink": true
       },
       "data": [
        {
         "marker": {
          "size": 10,
          "symbol": 17
         },
         "mode": "lines+markers",
         "type": "scatter",
         "uid": "c61cbd94-bdf6-42f9-9f3d-2cfc9bf9a330",
         "x": [
          1999,
          2000,
          2001,
          2002,
          2003,
          2004,
          2005,
          2006,
          2007,
          2008,
          2009,
          2010,
          2011,
          2012,
          2013,
          2014,
          2015,
          2016,
          2017,
          2018
         ],
         "y": [
          857,
          817,
          794,
          690,
          734,
          730,
          763,
          826,
          866,
          616,
          638,
          714,
          764,
          770,
          704,
          720,
          830,
          752,
          862,
          794
         ]
        }
       ],
       "layout": {
        "annotations": [
         {
          "arrowhead": 3,
          "ax": 0,
          "ay": 40,
          "font": {
           "family": "Arial Black",
           "size": 16
          },
          "text": "Decline after 2001 recession",
          "x": 2002,
          "xref": "x",
          "y": 690,
          "yref": "y"
         },
         {
          "arrowhead": 5,
          "ax": 80,
          "ay": -200,
          "font": {
           "family": "Arial Black",
           "size": 16
          },
          "text": "Financial Crisis of 2008, 29% decline",
          "x": 2008,
          "xref": "x",
          "y": 616,
          "yref": "y"
         },
         {
          "arrowhead": 3,
          "font": {
           "family": "Arial Black",
           "size": 16
          },
          "text": "Peak Spending at $866",
          "x": 2007,
          "xref": "x",
          "y": 866,
          "yref": "y"
         }
        ],
        "images": [
         {
          "sizex": 0.2,
          "sizey": 0.15,
          "source": "new.png",
          "x": 0.5,
          "xanchor": "center",
          "xref": "paper",
          "y": 1,
          "yanchor": "bottom",
          "yref": "paper"
         }
        ],
        "title": "How much Americans spend on Christmas?",
        "titlefont": {
         "color": "#177a21",
         "size": 30
        },
        "xaxis": {
         "dtick": 1,
         "title": "Years"
        },
        "yaxis": {
         "title": "Spendings U.S Dollars"
        }
       }
      },
      "text/html": [
       "<div id=\"f68beaa7-15e6-4a07-a08e-b884f52252b2\" style=\"height: 525px; width: 100%;\" class=\"plotly-graph-div\"></div><script type=\"text/javascript\">require([\"plotly\"], function(Plotly) { window.PLOTLYENV=window.PLOTLYENV || {};window.PLOTLYENV.BASE_URL=\"https://plot.ly\";Plotly.newPlot(\"f68beaa7-15e6-4a07-a08e-b884f52252b2\", [{\"marker\": {\"size\": 10, \"symbol\": 17}, \"mode\": \"lines+markers\", \"x\": [1999, 2000, 2001, 2002, 2003, 2004, 2005, 2006, 2007, 2008, 2009, 2010, 2011, 2012, 2013, 2014, 2015, 2016, 2017, 2018], \"y\": [857, 817, 794, 690, 734, 730, 763, 826, 866, 616, 638, 714, 764, 770, 704, 720, 830, 752, 862, 794], \"type\": \"scatter\", \"uid\": \"c61cbd94-bdf6-42f9-9f3d-2cfc9bf9a330\"}], {\"annotations\": [{\"arrowhead\": 3, \"ax\": 0, \"ay\": 40, \"font\": {\"family\": \"Arial Black\", \"size\": 16}, \"text\": \"Decline after 2001 recession\", \"x\": 2002, \"xref\": \"x\", \"y\": 690, \"yref\": \"y\"}, {\"arrowhead\": 5, \"ax\": 80, \"ay\": -200, \"font\": {\"family\": \"Arial Black\", \"size\": 16}, \"text\": \"Financial Crisis of 2008, 29% decline\", \"x\": 2008, \"xref\": \"x\", \"y\": 616, \"yref\": \"y\"}, {\"arrowhead\": 3, \"font\": {\"family\": \"Arial Black\", \"size\": 16}, \"text\": \"Peak Spending at $866\", \"x\": 2007, \"xref\": \"x\", \"y\": 866, \"yref\": \"y\"}], \"images\": [{\"sizex\": 0.2, \"sizey\": 0.15, \"source\": \"new.png\", \"x\": 0.5, \"xanchor\": \"center\", \"xref\": \"paper\", \"y\": 1, \"yanchor\": \"bottom\", \"yref\": \"paper\"}], \"title\": \"How much Americans spend on Christmas?\", \"titlefont\": {\"color\": \"#177a21\", \"size\": 30}, \"xaxis\": {\"dtick\": 1, \"title\": \"Years\"}, \"yaxis\": {\"title\": \"Spendings U.S Dollars\"}}, {\"showLink\": true, \"linkText\": \"Export to plot.ly\", \"plotlyServerURL\": \"https://plot.ly\"})});</script><script type=\"text/javascript\">window.addEventListener(\"resize\", function(){window._Plotly.Plots.resize(document.getElementById(\"f68beaa7-15e6-4a07-a08e-b884f52252b2\"));});</script>"
      ],
      "text/vnd.plotly.v1+html": [
       "<div id=\"f68beaa7-15e6-4a07-a08e-b884f52252b2\" style=\"height: 525px; width: 100%;\" class=\"plotly-graph-div\"></div><script type=\"text/javascript\">require([\"plotly\"], function(Plotly) { window.PLOTLYENV=window.PLOTLYENV || {};window.PLOTLYENV.BASE_URL=\"https://plot.ly\";Plotly.newPlot(\"f68beaa7-15e6-4a07-a08e-b884f52252b2\", [{\"marker\": {\"size\": 10, \"symbol\": 17}, \"mode\": \"lines+markers\", \"x\": [1999, 2000, 2001, 2002, 2003, 2004, 2005, 2006, 2007, 2008, 2009, 2010, 2011, 2012, 2013, 2014, 2015, 2016, 2017, 2018], \"y\": [857, 817, 794, 690, 734, 730, 763, 826, 866, 616, 638, 714, 764, 770, 704, 720, 830, 752, 862, 794], \"type\": \"scatter\", \"uid\": \"c61cbd94-bdf6-42f9-9f3d-2cfc9bf9a330\"}], {\"annotations\": [{\"arrowhead\": 3, \"ax\": 0, \"ay\": 40, \"font\": {\"family\": \"Arial Black\", \"size\": 16}, \"text\": \"Decline after 2001 recession\", \"x\": 2002, \"xref\": \"x\", \"y\": 690, \"yref\": \"y\"}, {\"arrowhead\": 5, \"ax\": 80, \"ay\": -200, \"font\": {\"family\": \"Arial Black\", \"size\": 16}, \"text\": \"Financial Crisis of 2008, 29% decline\", \"x\": 2008, \"xref\": \"x\", \"y\": 616, \"yref\": \"y\"}, {\"arrowhead\": 3, \"font\": {\"family\": \"Arial Black\", \"size\": 16}, \"text\": \"Peak Spending at $866\", \"x\": 2007, \"xref\": \"x\", \"y\": 866, \"yref\": \"y\"}], \"images\": [{\"sizex\": 0.2, \"sizey\": 0.15, \"source\": \"new.png\", \"x\": 0.5, \"xanchor\": \"center\", \"xref\": \"paper\", \"y\": 1, \"yanchor\": \"bottom\", \"yref\": \"paper\"}], \"title\": \"How much Americans spend on Christmas?\", \"titlefont\": {\"color\": \"#177a21\", \"size\": 30}, \"xaxis\": {\"dtick\": 1, \"title\": \"Years\"}, \"yaxis\": {\"title\": \"Spendings U.S Dollars\"}}, {\"showLink\": true, \"linkText\": \"Export to plot.ly\", \"plotlyServerURL\": \"https://plot.ly\"})});</script><script type=\"text/javascript\">window.addEventListener(\"resize\", function(){window._Plotly.Plots.resize(document.getElementById(\"f68beaa7-15e6-4a07-a08e-b884f52252b2\"));});</script>"
      ]
     },
     "metadata": {},
     "output_type": "display_data"
    }
   ],
   "source": [
    "data1 = go.Scatter(x=data['Year'].dt.year,\n",
    "                 y=data['Average amount spent in U.S. dollars'],\n",
    "             mode = 'lines+markers',\n",
    "             marker = dict(symbol = 17, size = 10)\n",
    "             #hoverinfosrc= 'Average amount spent in U.S. dollars'\n",
    "                  )\n",
    "\n",
    "layout1 = go.Layout(\n",
    "    title = 'How much Americans spend on Christmas?', titlefont = dict(size = 30, color='#177a21'),\n",
    "    xaxis = dict(\n",
    "            title = 'Years',\n",
    "            dtick=1,\n",
    "            #titlefont = dict(size=15)\n",
    "                ),\n",
    "    yaxis = dict(\n",
    "            title = \"Spendings U.S Dollars\",\n",
    "            #titlefont = dict(size=15\n",
    "    ),\n",
    "    annotations = [\n",
    "            dict(x=2002,y=690,xref='x',yref='y',text='Decline after 2001 recession',font = dict(family = \"Arial Black\",size=16),arrowhead=3, ax=0,ay=40),\n",
    "            dict(x=2008,y=616,xref='x',yref='y',text='Financial Crisis of 2008, 29% decline',font = dict(family = \"Arial Black\",size=16),arrowhead=5, ax=80, ay=-200),\n",
    "            dict(x=2007,y=866,xref='x',yref='y',text='Peak Spending at $866',font = dict(family = \"Arial Black\",size=16),arrowhead=3)\n",
    "            \n",
    "        \n",
    "        \n",
    "        \n",
    "        \n",
    "    ],\n",
    "    images = [dict(\n",
    "        source=\"new.png\",\n",
    "        xref=\"paper\", yref=\"paper\",\n",
    "        x=0.5, y=1,\n",
    "        sizex=0.2, sizey=0.15,\n",
    "        xanchor=\"center\", yanchor=\"bottom\"\n",
    "      )]\n",
    "                )\n",
    "fig = go.Figure(data=[data1], layout=layout1)\n",
    "iplot(fig)"
   ]
  },
  {
   "cell_type": "code",
   "execution_count": null,
   "metadata": {},
   "outputs": [],
   "source": []
  },
  {
   "cell_type": "code",
   "execution_count": 121,
   "metadata": {},
   "outputs": [],
   "source": []
  },
  {
   "cell_type": "code",
   "execution_count": 177,
   "metadata": {},
   "outputs": [
    {
     "data": {
      "text/plain": [
       "<property at 0x7fe7e4f14c78>"
      ]
     },
     "execution_count": 177,
     "metadata": {},
     "output_type": "execute_result"
    }
   ],
   "source": []
  },
  {
   "cell_type": "code",
   "execution_count": null,
   "metadata": {},
   "outputs": [],
   "source": []
  },
  {
   "cell_type": "code",
   "execution_count": null,
   "metadata": {},
   "outputs": [],
   "source": []
  }
 ],
 "metadata": {
  "kernelspec": {
   "display_name": "Python 3",
   "language": "python",
   "name": "python3"
  },
  "language_info": {
   "codemirror_mode": {
    "name": "ipython",
    "version": 3
   },
   "file_extension": ".py",
   "mimetype": "text/x-python",
   "name": "python",
   "nbconvert_exporter": "python",
   "pygments_lexer": "ipython3",
   "version": "3.7.1"
  }
 },
 "nbformat": 4,
 "nbformat_minor": 2
}
